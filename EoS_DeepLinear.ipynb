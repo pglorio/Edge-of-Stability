{
  "cells": [
    {
      "cell_type": "code",
      "source": [
        "! pip install -q pyhessian functorch\n",
        "#change to cuda=True in Hessian if cuda"
      ],
      "metadata": {
        "id": "9MardIG3W792"
      },
      "execution_count": null,
      "outputs": []
    },
    {
      "cell_type": "code",
      "execution_count": null,
      "metadata": {
        "colab": {
          "base_uri": "https://localhost:8080/"
        },
        "id": "4VnGR_YYcAEs",
        "outputId": "ff10a7e4-f691-4aa5-be90-ad0fc91a90fc"
      },
      "outputs": [
        {
          "output_type": "stream",
          "name": "stdout",
          "text": [
            "using device: cuda\n",
            "Mounted at /content/gdrive\n"
          ]
        }
      ],
      "source": [
        "import torch\n",
        "import numpy as np\n",
        "import torch.nn as nn\n",
        "from torch.nn import init\n",
        "import torch.optim as optim\n",
        "import torch.nn.functional as F \n",
        "import random\n",
        "import math\n",
        "import copy\n",
        "import time\n",
        "import pickle\n",
        "from IPython.display import clear_output\n",
        "\n",
        "import matplotlib.pylab as plt\n",
        "import matplotlib.gridspec as gridspec\n",
        "from pyhessian import hessian\n",
        "\n",
        "# Vision\n",
        "#import torchvision\n",
        "#import torchvision.transforms as T\n",
        "#import torchvision.datasets as dset\n",
        "\n",
        "from torch.utils.data import Dataset, DataLoader\n",
        "from torch.utils.data import sampler\n",
        "\n",
        "\n",
        "USE_GPU = True\n",
        "\n",
        "dtype = torch.float32 \n",
        "\n",
        "if USE_GPU and torch.cuda.is_available():\n",
        "    device = torch.device('cuda')\n",
        "else:\n",
        "    device = torch.device('cpu')\n",
        "print('using device:', device)\n",
        "\n",
        "from google.colab import drive\n",
        "drive.mount('/content/gdrive')\n"
      ]
    },
    {
      "cell_type": "code",
      "execution_count": null,
      "metadata": {
        "id": "A486DzUxcAEu"
      },
      "outputs": [],
      "source": [
        "#this remove for test\n",
        "# def test_loss(model, loader_test):\n",
        "#     #criterion2 = nn.CrossEntropyLoss()\n",
        "#     criterion1 = nn.MSELoss()\n",
        "#     loss = 0\n",
        "#     for x,y in loader_test:\n",
        "#         model.eval()  # put model to training mode\n",
        "#         model = model.to(device=device)\n",
        "#         x = x.to(device=device, dtype=dtype)  # move to device, e.g. GPU\n",
        "#         y = y.to(device=device, dtype=torch.long)\n",
        "#         #two lines below refer to loss choice of criterion2\n",
        "#         #scores = model(x).squeeze() \n",
        "#         #loss += criterion2(scores, y) \n",
        "#         #lines below refer to loss choice of criterion1\n",
        "#         scores = model(x)\n",
        "#         loss += criterion1(scores, y.to(device=device, dtype=dtype))\n",
        "#         #loss += criterion1(scores, F.one_hot(y,num_classes=p).to(device=device, dtype=dtype))\n",
        "#         ##hessian_comp = hessian(model, criterion1, data=(x, y.to(device=device, dtype=dtype)), cuda=True)\n",
        "#         ##top_eigenvalues, top_eigenvector = hessian_comp.eigenvalues(top_n=1)\n",
        "#         ##trace = np.mean(hessian_comp.trace())\n",
        "#     return loss#*frac/(1-frac)##, top_eigenvalues, trace\n",
        "\n",
        "\n",
        "            #loss = criterion2(scores.squeeze(), y)\n",
        "\n",
        "# def check_accuracy(loader, model):\n",
        "#     num_correct = 0\n",
        "#     num_samples = 0\n",
        "#     model = model.to(device=device)\n",
        "#     model.eval()  # set model to evaluation mode\n",
        "#     x_wrong = []\n",
        "#     with torch.no_grad():\n",
        "#         for x, y in loader:\n",
        "            \n",
        "#             x = x.to(device=device, dtype=dtype)  \n",
        "#             y = y.to(device=device, dtype=torch.long)\n",
        "            \n",
        "#             scores = model(x) \n",
        "#             _, preds = scores.max(1)\n",
        "#             preds = preds.reshape(len(preds), 1)\n",
        "            \n",
        "#             num_correct += (preds == y).sum()\n",
        "#             num_samples += preds.size(0)\n",
        "#             x_wrong.append(x[ y != preds])\n",
        "            \n",
        "#         acc = float(num_correct) / num_samples\n",
        "\n",
        "#     return num_correct.data, num_samples, acc\n",
        "\n",
        "\n",
        "def trainer(model, optimizer, epochs, time1, loader_train, plot_timesteps):#, loader_test): this remove for test\n",
        "    # Make data dic, contains training data\n",
        "    data = {'loss' :[], 'test_loss': [], 'ws':[], 'test_acc':[], 'train_acc': [], 'gradfc1':[], 'gradfc2':[], 'fc1.ws':[], 'fc2.ws':[],\n",
        "            'train_topeigs': [], 'test_topeigs': [], 'train_trace': [], 'test_trace': []}\n",
        "    \n",
        "    model = model.to(device=device)  # move the model parameters to CPU/GPU\n",
        "    criterion1 = nn.MSELoss()\n",
        "    #criterion2 = nn.CrossEntropyLoss()\n",
        "    stopwatch = 0\n",
        "    for e in range(epochs):\n",
        "      \n",
        "        #print(\"EPOCH: \", e)\n",
        "\n",
        "        for t, (x, y) in enumerate(loader_train):\n",
        "            \n",
        "            model.train()  # put model to training mode\n",
        "\n",
        "            model = model.to(device=device)\n",
        "            x = x.to(device=device, dtype=dtype)  # move to device, e.g. GPU\n",
        "            y = y.to(device=device, dtype=torch.long)\n",
        "\n",
        "            ####\n",
        "\n",
        "            scores = model(x)\n",
        "            loss = criterion1(scores, y.to(device=device, dtype=dtype))\n",
        "            #loss = criterion1(scores, F.one_hot(y,num_classes=p).to(device=device, dtype=dtype))\n",
        "\n",
        "            #loss = criterion2(scores.squeeze(), y)\n",
        "\n",
        "            optimizer.zero_grad()\n",
        "            loss.backward()\n",
        "            optimizer.step()\n",
        "            #scheduler.step()\n",
        "\n",
        "            if e % plot_timesteps == 0 and t ==0:\n",
        "              data['gradfc1'].append((model.fc1.weight.grad**2).mean().detach().clone().cpu())\n",
        "              data['gradfc2'].append((model.fc2.weight.grad**2).mean().detach().clone().cpu())\n",
        "              \n",
        "              # Use Pyheessian package\n",
        "              # ################################\n",
        "              hessian_comp = hessian(model, criterion1, data=(x, y.to(device=device, dtype=dtype)), cuda=False)\n",
        "              # hessian_comp = hessian(model, criterion2, data=(x, y), cuda=True)\n",
        "              top_eigenvalues, top_eigenvector = hessian_comp.eigenvalues(top_n=1)\n",
        "              trace = np.mean(hessian_comp.trace())\n",
        "              # hessian = hessian_fn(model, criterion1, x, F.one_hot(y,num_classes=59))\n",
        "              # print(hessian.shape)              \n",
        "              \n",
        "              ##t_loss, t_eigs, t_trace = test_loss(model, loader_test)\n",
        "              #t_loss = test_loss(model, loader_test)\n",
        "              #data['test_loss'].append(t_loss.detach().clone().cpu())\n",
        "              ##data['test_topeigs'].append(np.array(t_eigs))\n",
        "              ##data['test_trace'].append(t_trace)              \n",
        "              with torch.no_grad():\n",
        "                #data['test_acc'].append((check_accuracy(loader_test, model)[2]*100))\n",
        "                #data['train_acc'].append((check_accuracy(loader_train, model)[2]*100))\n",
        "                #this below remove for test\n",
        "                #data['test_loss'].append(test_loss(model, loader_test).detach().clone().cpu())\n",
        "                data['loss'].append(loss.detach().clone().cpu())\n",
        "                data['fc1.ws'].append((model.fc1.weight**2).mean().detach().clone().cpu())\n",
        "                data['fc2.ws'].append((model.fc2.weight**2).mean().detach().clone().cpu())\n",
        "                data['train_topeigs'].append(np.array(top_eigenvalues))\n",
        "                data['train_trace'].append(trace) \n",
        "            \n",
        "            if e % 100 == 0 and t==0:\n",
        "              with torch.no_grad():\n",
        "                end1 = time.time()\n",
        "                #sys.stdout.write(f'Epoch {(e+1)} / {epochs}, Top eig = {top_eigenvalues}, Time: {end1-start} s')\n",
        "                #sys.stdout.write('\\b')\n",
        "                #sys.stdout.flush()\n",
        "                clear_output()\n",
        "                print(f'Epoch {(e+1)} / {epochs}, Top eig = {top_eigenvalues}, Time: {end1-start} s')#.item()\n",
        "                \n",
        "                #print(f'Test acc: {check_accuracy(loader_test, model)[2]*100}% correctly')\n",
        "                #print(f'Train acc: {check_accuracy(loader_train, model)[2]*100}% correctly')\n",
        "                \n",
        "                #print(\"Time:\", (end1-start), \"s\")\n",
        "\n",
        "            \n",
        "            \n",
        "\n",
        "            \n",
        "                \n",
        "              \n",
        "    return data"
      ]
    },
    {
      "cell_type": "code",
      "execution_count": null,
      "metadata": {
        "id": "EQVueBJsTnXA"
      },
      "outputs": [],
      "source": [
        "################ MLP model #################\n",
        "def flatten(x):\n",
        "  N = x.shape[0] # read in N, C, H, W\n",
        "  return x.view(N, -1)  # \"flatten\" the C * H * W values into a single vector per image\n",
        "\n",
        "class fcc(nn.Module):\n",
        "  def __init__(self, in_size, h_size, out_size):\n",
        "    super(fcc, self).__init__()\n",
        "\n",
        "    self.in_size = in_size\n",
        "    self.h_size = h_size\n",
        "    self.out_size = out_size\n",
        "\n",
        "    self.fc1 = nn.Linear(in_size, h_size, bias=False)\n",
        "    self.fc2 = nn.Linear(h_size, h_size, bias=False)\n",
        "    self.fc3 = nn.Linear(h_size, h_size, bias=False)\n",
        "    self.fc4 = nn.Linear(h_size, h_size, bias=False)\n",
        "    self.fc5 = nn.Linear(h_size, h_size, bias=False)\n",
        "    self.fc6 = nn.Linear(h_size, h_size, bias=False)\n",
        "    self.fc7 = nn.Linear(h_size, h_size, bias=False)\n",
        "    self.fc8 = nn.Linear(h_size, h_size, bias=False)\n",
        "    self.fc9 = nn.Linear(h_size, h_size, bias=False)\n",
        "    self.fc10 = nn.Linear(h_size, h_size, bias=False)\n",
        "    self.fc11 = nn.Linear(h_size, h_size, bias=False)\n",
        "    self.fc12 = nn.Linear(h_size, h_size, bias=False)\n",
        "    self.fc13 = nn.Linear(h_size, h_size, bias=False)\n",
        "    self.fc14 = nn.Linear(h_size, h_size, bias=False)\n",
        "    self.fc15 = nn.Linear(h_size, h_size, bias=False)\n",
        "    self.fc16 = nn.Linear(h_size, h_size, bias=False)\n",
        "    self.fc17 = nn.Linear(h_size, h_size, bias=False)\n",
        "    self.fc18 = nn.Linear(h_size, h_size, bias=False)\n",
        "    self.fc19 = nn.Linear(h_size, h_size, bias=False)\n",
        "    self.fc20 = nn.Linear(h_size, out_size, bias=False)\n",
        "\n",
        "\n",
        "    #torch.nn.init.normal_(self.fc1.weight, mean=0.0, std=1.0)\n",
        "    #torch.nn.init.normal_(self.fc2.weight, mean=0.0, std=1.0)\n",
        "    #torch.nn.init.normal_(self.fc3.weight, mean=0.0, std=1.0)\n",
        "    #torch.nn.init.normal_(self.fc4.weight, mean=0.0, std=1.0)\n",
        "    #torch.nn.init.normal_(self.fc5.weight, mean=0.0, std=1.0)\n",
        "    torch.nn.init.xavier_uniform_(self.fc1.weight)\n",
        "    torch.nn.init.xavier_uniform_(self.fc2.weight)\n",
        "    torch.nn.init.xavier_uniform_(self.fc3.weight)\n",
        "    torch.nn.init.xavier_uniform_(self.fc4.weight)\n",
        "    torch.nn.init.xavier_uniform_(self.fc5.weight)\n",
        "    torch.nn.init.xavier_uniform_(self.fc6.weight)\n",
        "    torch.nn.init.xavier_uniform_(self.fc7.weight)\n",
        "    torch.nn.init.xavier_uniform_(self.fc8.weight)\n",
        "    torch.nn.init.xavier_uniform_(self.fc9.weight)\n",
        "    torch.nn.init.xavier_uniform_(self.fc10.weight)\n",
        "    torch.nn.init.xavier_uniform_(self.fc11.weight)\n",
        "    torch.nn.init.xavier_uniform_(self.fc12.weight)\n",
        "    torch.nn.init.xavier_uniform_(self.fc13.weight)\n",
        "    torch.nn.init.xavier_uniform_(self.fc14.weight)\n",
        "    torch.nn.init.xavier_uniform_(self.fc15.weight)\n",
        "    torch.nn.init.xavier_uniform_(self.fc16.weight)\n",
        "    torch.nn.init.xavier_uniform_(self.fc17.weight)\n",
        "    torch.nn.init.xavier_uniform_(self.fc18.weight)\n",
        "    torch.nn.init.xavier_uniform_(self.fc19.weight)\n",
        "    torch.nn.init.xavier_uniform_(self.fc20.weight)\n",
        "\n",
        "  def forward(self, x):\n",
        "    # ModuleList can act as an iterable, or be indexed using ints\n",
        "    # First layer\n",
        "    x = flatten(x)\n",
        "    x = self.fc1(x) #* math.sqrt(2 / self.in_size) \n",
        "    #x = torch.relu(x)\n",
        "    x = self.fc2(x) #* math.sqrt(2 / self.h_size)\n",
        "    #x = torch.relu(x)\n",
        "    x = self.fc3(x) #* math.sqrt(2 / self.h_size)\n",
        "    #x = torch.relu(x)\n",
        "    x = self.fc4(x) #* math.sqrt(2 / self.h_size)\n",
        "    #x = torch.relu(x)\n",
        "    x = self.fc5(x) #* math.sqrt(2 / self.h_size)\n",
        "    #x = torch.relu(x)\n",
        "    x = self.fc6(x) #* math.sqrt(2 / self.in_size) \n",
        "    #x = torch.relu(x)\n",
        "    x = self.fc7(x) #* math.sqrt(2 / self.h_size)\n",
        "    #x = torch.relu(x)\n",
        "    x = self.fc8(x) #* math.sqrt(2 / self.h_size)\n",
        "    #x = torch.relu(x)\n",
        "    x = self.fc9(x) #* math.sqrt(2 / self.h_size)\n",
        "    #x = torch.relu(x)\n",
        "    x = self.fc10(x) #* math.sqrt(2 / self.h_size)\n",
        "    #x = torch.relu(x)\n",
        "    x = self.fc11(x) #* math.sqrt(2 / self.in_size) \n",
        "    #x = torch.relu(x)\n",
        "    x = self.fc12(x) #* math.sqrt(2 / self.h_size)\n",
        "    #x = torch.relu(x)\n",
        "    x = self.fc13(x) #* math.sqrt(2 / self.h_size)\n",
        "    #x = torch.relu(x)\n",
        "    x = self.fc14(x) #* math.sqrt(2 / self.h_size)\n",
        "    #x = torch.relu(x)\n",
        "    x = self.fc15(x) #* math.sqrt(2 / self.h_size)\n",
        "    #x = torch.relu(x)\n",
        "    x = self.fc16(x) #* math.sqrt(2 / self.in_size) \n",
        "    #x = torch.relu(x)\n",
        "    x = self.fc17(x) #* math.sqrt(2 / self.h_size)\n",
        "    #x = torch.relu(x)\n",
        "    x = self.fc18(x) #* math.sqrt(2 / self.h_size)\n",
        "    #x = torch.relu(x)\n",
        "    x = self.fc19(x) #* math.sqrt(2 / self.h_size)\n",
        "    #x = torch.relu(x)\n",
        "    x = self.fc20(x) #* math.sqrt(2 / self.h_size)\n",
        "    #x = torch.relu(x)\n",
        "    return x"
      ]
    },
    {
      "cell_type": "code",
      "execution_count": null,
      "metadata": {
        "colab": {
          "base_uri": "https://localhost:8080/",
          "height": 453
        },
        "id": "KjtIBV0IEi_j",
        "outputId": "af37b7c1-85ce-4969-f09d-2e53d34c2b64"
      },
      "outputs": [
        {
          "output_type": "stream",
          "name": "stderr",
          "text": [
            "/usr/local/lib/python3.8/dist-packages/torch/autograd/__init__.py:197: UserWarning: Using backward() with create_graph=True will create a reference cycle between the parameter and its gradient which can cause a memory leak. We recommend using autograd.grad when creating the graph to avoid this. If you have to use this function, make sure to reset the .grad fields of your parameters to None after use to break the cycle and avoid the leak. (Triggered internally at ../torch/csrc/autograd/engine.cpp:1059.)\n",
            "  Variable._execution_engine.run_backward(  # Calls into the C++ engine to run the backward pass\n"
          ]
        },
        {
          "output_type": "error",
          "ename": "RuntimeError",
          "evalue": "ignored",
          "traceback": [
            "\u001b[0;31m---------------------------------------------------------------------------\u001b[0m",
            "\u001b[0;31mRuntimeError\u001b[0m                              Traceback (most recent call last)",
            "\u001b[0;32m<ipython-input-5-7fd14d7974fa>\u001b[0m in \u001b[0;36m<module>\u001b[0;34m\u001b[0m\n\u001b[1;32m     79\u001b[0m \u001b[0;34m\u001b[0m\u001b[0m\n\u001b[1;32m     80\u001b[0m \u001b[0;34m\u001b[0m\u001b[0m\n\u001b[0;32m---> 81\u001b[0;31m     train_data = trainer(model = Student, optimizer = SGD, epochs = epochs, time1=time1,\n\u001b[0m\u001b[1;32m     82\u001b[0m                           loader_train = loader_train, plot_timesteps=plot_timesteps )#, loader_test = loader_test) this remove for test\n\u001b[1;32m     83\u001b[0m \u001b[0;34m\u001b[0m\u001b[0m\n",
            "\u001b[0;32m<ipython-input-3-26eecfac19ce>\u001b[0m in \u001b[0;36mtrainer\u001b[0;34m(model, optimizer, epochs, time1, loader_train, plot_timesteps)\u001b[0m\n\u001b[1;32m     91\u001b[0m               \u001b[0mhessian_comp\u001b[0m \u001b[0;34m=\u001b[0m \u001b[0mhessian\u001b[0m\u001b[0;34m(\u001b[0m\u001b[0mmodel\u001b[0m\u001b[0;34m,\u001b[0m \u001b[0mcriterion1\u001b[0m\u001b[0;34m,\u001b[0m \u001b[0mdata\u001b[0m\u001b[0;34m=\u001b[0m\u001b[0;34m(\u001b[0m\u001b[0mx\u001b[0m\u001b[0;34m,\u001b[0m \u001b[0my\u001b[0m\u001b[0;34m.\u001b[0m\u001b[0mto\u001b[0m\u001b[0;34m(\u001b[0m\u001b[0mdevice\u001b[0m\u001b[0;34m=\u001b[0m\u001b[0mdevice\u001b[0m\u001b[0;34m,\u001b[0m \u001b[0mdtype\u001b[0m\u001b[0;34m=\u001b[0m\u001b[0mdtype\u001b[0m\u001b[0;34m)\u001b[0m\u001b[0;34m)\u001b[0m\u001b[0;34m,\u001b[0m \u001b[0mcuda\u001b[0m\u001b[0;34m=\u001b[0m\u001b[0;32mFalse\u001b[0m\u001b[0;34m)\u001b[0m\u001b[0;34m\u001b[0m\u001b[0;34m\u001b[0m\u001b[0m\n\u001b[1;32m     92\u001b[0m               \u001b[0;31m# hessian_comp = hessian(model, criterion2, data=(x, y), cuda=True)\u001b[0m\u001b[0;34m\u001b[0m\u001b[0;34m\u001b[0m\u001b[0;34m\u001b[0m\u001b[0m\n\u001b[0;32m---> 93\u001b[0;31m               \u001b[0mtop_eigenvalues\u001b[0m\u001b[0;34m,\u001b[0m \u001b[0mtop_eigenvector\u001b[0m \u001b[0;34m=\u001b[0m \u001b[0mhessian_comp\u001b[0m\u001b[0;34m.\u001b[0m\u001b[0meigenvalues\u001b[0m\u001b[0;34m(\u001b[0m\u001b[0mtop_n\u001b[0m\u001b[0;34m=\u001b[0m\u001b[0;36m1\u001b[0m\u001b[0;34m)\u001b[0m\u001b[0;34m\u001b[0m\u001b[0;34m\u001b[0m\u001b[0m\n\u001b[0m\u001b[1;32m     94\u001b[0m               \u001b[0mtrace\u001b[0m \u001b[0;34m=\u001b[0m \u001b[0mnp\u001b[0m\u001b[0;34m.\u001b[0m\u001b[0mmean\u001b[0m\u001b[0;34m(\u001b[0m\u001b[0mhessian_comp\u001b[0m\u001b[0;34m.\u001b[0m\u001b[0mtrace\u001b[0m\u001b[0;34m(\u001b[0m\u001b[0;34m)\u001b[0m\u001b[0;34m)\u001b[0m\u001b[0;34m\u001b[0m\u001b[0;34m\u001b[0m\u001b[0m\n\u001b[1;32m     95\u001b[0m               \u001b[0;31m# hessian = hessian_fn(model, criterion1, x, F.one_hot(y,num_classes=59))\u001b[0m\u001b[0;34m\u001b[0m\u001b[0;34m\u001b[0m\u001b[0;34m\u001b[0m\u001b[0m\n",
            "\u001b[0;32m/usr/local/lib/python3.8/dist-packages/pyhessian/hessian.py\u001b[0m in \u001b[0;36meigenvalues\u001b[0;34m(self, maxIter, tol, top_n)\u001b[0m\n\u001b[1;32m    139\u001b[0m                     \u001b[0mtmp_eigenvalue\u001b[0m\u001b[0;34m,\u001b[0m \u001b[0mHv\u001b[0m \u001b[0;34m=\u001b[0m \u001b[0mself\u001b[0m\u001b[0;34m.\u001b[0m\u001b[0mdataloader_hv_product\u001b[0m\u001b[0;34m(\u001b[0m\u001b[0mv\u001b[0m\u001b[0;34m)\u001b[0m\u001b[0;34m\u001b[0m\u001b[0;34m\u001b[0m\u001b[0m\n\u001b[1;32m    140\u001b[0m                 \u001b[0;32melse\u001b[0m\u001b[0;34m:\u001b[0m\u001b[0;34m\u001b[0m\u001b[0;34m\u001b[0m\u001b[0m\n\u001b[0;32m--> 141\u001b[0;31m                     \u001b[0mHv\u001b[0m \u001b[0;34m=\u001b[0m \u001b[0mhessian_vector_product\u001b[0m\u001b[0;34m(\u001b[0m\u001b[0mself\u001b[0m\u001b[0;34m.\u001b[0m\u001b[0mgradsH\u001b[0m\u001b[0;34m,\u001b[0m \u001b[0mself\u001b[0m\u001b[0;34m.\u001b[0m\u001b[0mparams\u001b[0m\u001b[0;34m,\u001b[0m \u001b[0mv\u001b[0m\u001b[0;34m)\u001b[0m\u001b[0;34m\u001b[0m\u001b[0;34m\u001b[0m\u001b[0m\n\u001b[0m\u001b[1;32m    142\u001b[0m                     \u001b[0mtmp_eigenvalue\u001b[0m \u001b[0;34m=\u001b[0m \u001b[0mgroup_product\u001b[0m\u001b[0;34m(\u001b[0m\u001b[0mHv\u001b[0m\u001b[0;34m,\u001b[0m \u001b[0mv\u001b[0m\u001b[0;34m)\u001b[0m\u001b[0;34m.\u001b[0m\u001b[0mcpu\u001b[0m\u001b[0;34m(\u001b[0m\u001b[0;34m)\u001b[0m\u001b[0;34m.\u001b[0m\u001b[0mitem\u001b[0m\u001b[0;34m(\u001b[0m\u001b[0;34m)\u001b[0m\u001b[0;34m\u001b[0m\u001b[0;34m\u001b[0m\u001b[0m\n\u001b[1;32m    143\u001b[0m \u001b[0;34m\u001b[0m\u001b[0m\n",
            "\u001b[0;32m/usr/local/lib/python3.8/dist-packages/pyhessian/utils.py\u001b[0m in \u001b[0;36mhessian_vector_product\u001b[0;34m(gradsH, params, v)\u001b[0m\n\u001b[1;32m     80\u001b[0m     \u001b[0mv\u001b[0m \u001b[0;32mis\u001b[0m \u001b[0mthe\u001b[0m \u001b[0mvector\u001b[0m\u001b[0;34m.\u001b[0m\u001b[0;34m\u001b[0m\u001b[0;34m\u001b[0m\u001b[0m\n\u001b[1;32m     81\u001b[0m     \"\"\"\n\u001b[0;32m---> 82\u001b[0;31m     hv = torch.autograd.grad(gradsH,\n\u001b[0m\u001b[1;32m     83\u001b[0m                              \u001b[0mparams\u001b[0m\u001b[0;34m,\u001b[0m\u001b[0;34m\u001b[0m\u001b[0;34m\u001b[0m\u001b[0m\n\u001b[1;32m     84\u001b[0m                              \u001b[0mgrad_outputs\u001b[0m\u001b[0;34m=\u001b[0m\u001b[0mv\u001b[0m\u001b[0;34m,\u001b[0m\u001b[0;34m\u001b[0m\u001b[0;34m\u001b[0m\u001b[0m\n",
            "\u001b[0;32m/usr/local/lib/python3.8/dist-packages/torch/autograd/__init__.py\u001b[0m in \u001b[0;36mgrad\u001b[0;34m(outputs, inputs, grad_outputs, retain_graph, create_graph, only_inputs, allow_unused, is_grads_batched)\u001b[0m\n\u001b[1;32m    298\u001b[0m         \u001b[0;32mreturn\u001b[0m \u001b[0m_vmap_internals\u001b[0m\u001b[0;34m.\u001b[0m\u001b[0m_vmap\u001b[0m\u001b[0;34m(\u001b[0m\u001b[0mvjp\u001b[0m\u001b[0;34m,\u001b[0m \u001b[0;36m0\u001b[0m\u001b[0;34m,\u001b[0m \u001b[0;36m0\u001b[0m\u001b[0;34m,\u001b[0m \u001b[0mallow_none_pass_through\u001b[0m\u001b[0;34m=\u001b[0m\u001b[0;32mTrue\u001b[0m\u001b[0;34m)\u001b[0m\u001b[0;34m(\u001b[0m\u001b[0mgrad_outputs_\u001b[0m\u001b[0;34m)\u001b[0m\u001b[0;34m\u001b[0m\u001b[0;34m\u001b[0m\u001b[0m\n\u001b[1;32m    299\u001b[0m     \u001b[0;32melse\u001b[0m\u001b[0;34m:\u001b[0m\u001b[0;34m\u001b[0m\u001b[0;34m\u001b[0m\u001b[0m\n\u001b[0;32m--> 300\u001b[0;31m         return Variable._execution_engine.run_backward(  # Calls into the C++ engine to run the backward pass\n\u001b[0m\u001b[1;32m    301\u001b[0m             \u001b[0mt_outputs\u001b[0m\u001b[0;34m,\u001b[0m \u001b[0mgrad_outputs_\u001b[0m\u001b[0;34m,\u001b[0m \u001b[0mretain_graph\u001b[0m\u001b[0;34m,\u001b[0m \u001b[0mcreate_graph\u001b[0m\u001b[0;34m,\u001b[0m \u001b[0mt_inputs\u001b[0m\u001b[0;34m,\u001b[0m\u001b[0;34m\u001b[0m\u001b[0;34m\u001b[0m\u001b[0m\n\u001b[1;32m    302\u001b[0m             allow_unused, accumulate_grad=False)  # Calls into the C++ engine to run the backward pass\n",
            "\u001b[0;31mRuntimeError\u001b[0m: invalid gradient at index 0 - expected device cuda:0 but got cpu"
          ]
        }
      ],
      "source": [
        "lr1 = 2/150\n",
        "epochs = 50000\n",
        "plot_timesteps = 30\n",
        "time1 = 1000000000\n",
        "\n",
        "\n",
        "dataset_size=50\n",
        "d_in=50\n",
        "d_out=50\n",
        "d_hidden=50\n",
        "\n",
        "torch.manual_seed(0)\n",
        "np.random.seed(1)\n",
        "random.seed(2)\n",
        "\n",
        "\n",
        "###SETTING UP TRAINING AND TEST SET\n",
        "\n",
        "frac = 1.0 # training set is frac * total set\n",
        "\n",
        "X= np.random.normal(loc=0,scale=1.0,size=(dataset_size, d_in))\n",
        "Q,_ = np.linalg.qr(X)\n",
        "X=(dataset_size)**(0.5)*Q\n",
        "#Avec=[(d_in-i)/d_in for i in range(d_in)]\n",
        "#A=np.diag(Avec)\n",
        "A = np.random.normal(loc=0,scale=1.0,size=(d_in, d_in))\n",
        "Y=X@A\n",
        "#Y= np.random.normal(loc=1,scale=0.0,size=(dataset_size, d_out))\n",
        "\n",
        "m = Y.shape[0]\n",
        "\n",
        "\n",
        "### Dataset and loader ###\n",
        "class Modular(torch.utils.data.Dataset):\n",
        "    \n",
        "    # Constructor\n",
        "    def __init__(self, data, labels):\n",
        "        self.x = data\n",
        "        self.y = labels\n",
        "        self.N = self.x.shape[0]\n",
        "        \n",
        "    # Getter\n",
        "    def __getitem__(self, index):    \n",
        "        return self.x[index,:], self.y[index]\n",
        "    \n",
        "    # Get length\n",
        "    def __len__(self):\n",
        "        return self.N\n",
        "        \n",
        "with torch.no_grad():\n",
        "    samples = Modular(X, Y)\n",
        "\n",
        "train_size = int(frac * m)\n",
        "test_size = m - train_size # between 1 and m\n",
        "loader_train = DataLoader(samples, batch_size = int(train_size/1), shuffle=False, drop_last=False,\n",
        "                    sampler=sampler.SubsetRandomSampler(range(0, train_size)))\n",
        "\n",
        "\n",
        "\n",
        "\n",
        "###TRAIN\n",
        "\n",
        "start = time.time()\n",
        "\n",
        "for lr in [lr1]:\n",
        "  for wd in [0]:\n",
        "\n",
        "    Student = fcc(d_in, d_hidden, d_out)\n",
        "\n",
        "    ### Swith off the decoder ###\n",
        "    #Student.fc2.weight.requires_grad=True\n",
        "    #Student.fc1.weight.requires_grad=False\n",
        "    #Student.Wout.requires_grad=False\n",
        "\n",
        "    #AdamW = optim.AdamW(Student.parameters(), lr=1e-1, betas=(0.9, 0.98), eps=1e-08, weight_decay=0.1, amsgrad=False, maximize=False, foreach=None, capturable=False)\n",
        "    #LLR = optim.lr_scheduler.LambdaLR(SGD, lambda step: min(1, 1))\n",
        "\n",
        "    SGD = optim.SGD(Student.parameters(), lr, momentum = 0, weight_decay=0)\n",
        "    \n",
        "\n",
        "    train_data = trainer(model = Student, optimizer = SGD, epochs = epochs, time1=time1,\n",
        "                          loader_train = loader_train, plot_timesteps=plot_timesteps )#, loader_test = loader_test) this remove for test\n",
        "\n",
        "    loss = np.array(train_data['loss'])\n",
        "    #these two remove for test\n",
        "    #loss_test = np.array(train_data['test_loss'])\n",
        "    #test_acc = np.array(train_data['test_acc'])\n",
        "    train_acc = np.array(train_data['train_acc'])\n",
        "    train_eigs = np.array(train_data['train_topeigs'])\n",
        "    ##test_eigs = np.array(train_data['test_topeigs'])\n",
        "    train_trace = np.array(train_data['train_trace'])\n",
        "    ##test_trace = np.array(train_data['test_trace'])\n",
        "\n",
        "\n",
        "    #plt.figure(1, figsize=(15,7))\n",
        "    #plt.plot(epochvec, loss,'-')\n",
        "\n",
        "    epochvec=[i*plot_timesteps for i in range(loss.shape[0])]\n",
        "    \n",
        "    fig, axs = plt.subplots(1, 3, figsize=(18, 4))\n",
        "    axs[0].plot(epochvec,loss)\n",
        "    axs[1].plot(epochvec,train_eigs)\n",
        "    axs[2].plot(epochvec,train_trace)\n",
        "    #this remove for test\n",
        "    #plt.figure(1, figsize=(15,7))\n",
        "    #plt.plot(loss_test, label=f'wd: {wd}, lr: {lr}')\n",
        "    #plt.legend()\n",
        "\n",
        "    #plt.figure(2, figsize=(15,7))\n",
        "    #plt.plot(train_acc, label=f'wd: {wd}, lr: {lr}')\n",
        "    #plt.legend()\n",
        "\n",
        "    #plt.figure(2, figsize=(15,7))\n",
        "    #plt.plot(test_acc, label=f'wd: {wd}, lr: {lr}')\n",
        "    #plt.legend()\n",
        "\n",
        "    #plt.figure(3, figsize=(15,7))\n",
        "    #plt.plot(train_eigs, label=f'wd: {wd}, lr: {lr}')\n",
        "    #plt.legend()\n",
        "\n",
        "    plt.show()\n",
        "\n",
        "    progress = {'lr' : lr, 'times' : epochvec,'loss' : loss, 'sharpness' : train_eigs.reshape(-1,train_eigs.shape[0])[0], 'trace' : train_trace.reshape(-1,train_trace.shape[0])[0]}\n",
        "      \n",
        "\n",
        "    #print('loss=',loss)\n",
        "    #print('sharp=',train_eigs.reshape(-1,train_eigs.shape[0])[0])\n",
        "    #print('trace=',train_trace.reshape(-1,train_trace.shape[0])[0])\n"
      ]
    },
    {
      "cell_type": "code",
      "source": [
        "    with open('/content/gdrive/My Drive/Colab Notebooks/Edge of Stability/DeepLinear.txt', 'rb') as handle:\n",
        "      progress_list = pickle.load(handle)\n",
        "    progress_list=np.append(progress_list,progress)\n",
        "    with open('/content/gdrive/My Drive/Colab Notebooks/Edge of Stability/DeepLinear.txt', 'wb') as handle:\n",
        "      pickle.dump(progress_list, handle, protocol=pickle.HIGHEST_PROTOCOL)  "
      ],
      "metadata": {
        "id": "2ugqltdB9vCp"
      },
      "execution_count": null,
      "outputs": []
    },
    {
      "cell_type": "code",
      "source": [
        "with open('/content/gdrive/My Drive/Colab Notebooks/Edge of Stability/DeepLinear.txt', 'rb') as handle:\n",
        "    prog_list = pickle.load(handle)\n",
        "len(prog_list)"
      ],
      "metadata": {
        "id": "8O0KdVhpJeQw",
        "colab": {
          "base_uri": "https://localhost:8080/"
        },
        "outputId": "7b422a85-7df1-4bff-cf7e-697026e655a1"
      },
      "execution_count": null,
      "outputs": [
        {
          "output_type": "execute_result",
          "data": {
            "text/plain": [
              "24"
            ]
          },
          "metadata": {},
          "execution_count": 126
        }
      ]
    },
    {
      "cell_type": "code",
      "source": [
        "nn1=22\n",
        "lrr1=prog_list[nn1]['lr']\n",
        "print(f'Position: {nn1} / {len(prog_list)}, LR = { lrr1 }, 2/LR: {2/lrr1}')\n",
        "fig, axs = plt.subplots(1, 3, figsize=(18, 4))\n",
        "axs[0].plot(prog_list[nn1]['times'],prog_list[nn1]['loss'])\n",
        "axs[1].plot(prog_list[nn1]['times'],prog_list[nn1]['sharpness'])\n",
        "axs[2].plot(prog_list[nn1]['times'],prog_list[nn1]['trace'])\n",
        "plt.show()\n",
        "delta=5\n",
        "avg=[sum(prog_list[nn1]['sharpness'][i*delta:(i+1)*delta])/delta for i in range(int(prog_list[nn1]['sharpness'].shape[0]/delta))]\n",
        "plt.plot(avg[300:-1])"
      ],
      "metadata": {
        "colab": {
          "base_uri": "https://localhost:8080/",
          "height": 548
        },
        "id": "1HzkTnVCRCII",
        "outputId": "f24f0d85-9040-4e4c-8180-2db91f3f8d06"
      },
      "execution_count": null,
      "outputs": [
        {
          "output_type": "stream",
          "name": "stdout",
          "text": [
            "Position: 22 / 24, LR = 0.01, 2/LR: 200.0\n"
          ]
        },
        {
          "output_type": "display_data",
          "data": {
            "text/plain": [
              "<Figure size 1296x288 with 3 Axes>"
            ],
            "image/png": "[encoded data removed]"
          },
          "metadata": {
            "needs_background": "light"
          }
        },
        {
          "output_type": "execute_result",
          "data": {
            "text/plain": [
              "[<matplotlib.lines.Line2D at 0x7f5ab5fa9bb0>]"
            ]
          },
          "metadata": {},
          "execution_count": 131
        },
        {
          "output_type": "display_data",
          "data": {
            "text/plain": [
              "<Figure size 432x288 with 1 Axes>"
            ],
            "image/png": "[encoded data removed]"
          },
          "metadata": {
            "needs_background": "light"
          }
        }
      ]
    },
    {
      "cell_type": "code",
      "source": [
        "results=[[2/90,110],[2/75,168],[2/65,185],[2/80,150],[2/60,80],[2/70,180],[2/100,100],[2/300,295],[2/3000,2090],[2/2000,2000],[2/1500,1250],\n",
        "         [2/1000,1000],[2/150,147],[2/200,195]]\n",
        "resLR=[results[i][0] for i in range(len(results))]\n",
        "resSH=[results[i][1] for i in range(len(results))]\n",
        "plt.plot(resLR,resSH,'o')"
      ],
      "metadata": {
        "colab": {
          "base_uri": "https://localhost:8080/",
          "height": 282
        },
        "id": "Z3uJ0xg8a5GS",
        "outputId": "35e39277-4924-458e-bff9-885c451cf57a"
      },
      "execution_count": null,
      "outputs": [
        {
          "output_type": "execute_result",
          "data": {
            "text/plain": [
              "[<matplotlib.lines.Line2D at 0x7f5ab648b2e0>]"
            ]
          },
          "metadata": {},
          "execution_count": 132
        },
        {
          "output_type": "display_data",
          "data": {
            "text/plain": [
              "<Figure size 432x288 with 1 Axes>"
            ],
            "image/png": "[encoded data removed]"
          },
          "metadata": {
            "needs_background": "light"
          }
        }
      ]
    },
    {
      "cell_type": "code",
      "source": [
        "2/150"
      ],
      "metadata": {
        "colab": {
          "base_uri": "https://localhost:8080/"
        },
        "id": "n-U0PJ0AkwSp",
        "outputId": "a245fd30-b30c-49d4-fc40-f3aa3c5c0660"
      },
      "execution_count": null,
      "outputs": [
        {
          "output_type": "execute_result",
          "data": {
            "text/plain": [
              "0.013333333333333334"
            ]
          },
          "metadata": {},
          "execution_count": 120
        }
      ]
    },
    {
      "cell_type": "code",
      "source": [
        "    #this is with same deep linear model as in Cohen et al\n",
        "    plt.figure(3, figsize=(15,7))\n",
        "    plt.plot(train_eigs, label=f'wd: {wd}, lr: {lr}')\n",
        "    plt.legend()"
      ],
      "metadata": {
        "colab": {
          "base_uri": "https://localhost:8080/",
          "height": 445
        },
        "id": "acdOhbduKNvW",
        "outputId": "ff747fd7-ee24-45ec-b033-11d624a90c3c"
      },
      "execution_count": null,
      "outputs": [
        {
          "output_type": "execute_result",
          "data": {
            "text/plain": [
              "<matplotlib.legend.Legend at 0x7f30b1739b90>"
            ]
          },
          "metadata": {},
          "execution_count": 18
        },
        {
          "output_type": "display_data",
          "data": {
            "text/plain": [
              "<Figure size 1080x504 with 1 Axes>"
            ],
            "image/png": "[encoded data removed]"
          },
          "metadata": {
            "needs_background": "light"
          }
        }
      ]
    },
    {
      "cell_type": "code",
      "source": [
        "#Initialize file\n",
        "progress_list=[]\n",
        "with open('/content/gdrive/My Drive/Colab Notebooks/Edge of Stability/DeepLinear.txt', 'wb') as handle:\n",
        "    pickle.dump(progress_list, handle, protocol=pickle.HIGHEST_PROTOCOL)"
      ],
      "metadata": {
        "id": "c3YT1fHhDJwD"
      },
      "execution_count": null,
      "outputs": []
    },
    {
      "cell_type": "code",
      "execution_count": null,
      "metadata": {
        "colab": {
          "base_uri": "https://localhost:8080/"
        },
        "id": "gf11vE3McAEt",
        "outputId": "573e2f00-9bef-4a2f-eaea-f7ad1f3fb0af",
        "cellView": "form"
      },
      "outputs": [
        {
          "output_type": "stream",
          "name": "stdout",
          "text": [
            "total: 50, test: 0, train: 50\n",
            "torch.Size([50, 50]) torch.Size([50, 50])\n"
          ]
        }
      ],
      "source": [
        "#@title Block for generating train/test datasets\n",
        "\n",
        "\n",
        "### Generate dataset for modular addition ###\n",
        "\n",
        "dataset_size=50\n",
        "d_in=50\n",
        "d_out=50\n",
        "d_hidden=50\n",
        "frac = 1.0 # training set is frac * total set\n",
        "\n",
        "np.random.seed(1)\n",
        "X= np.random.normal(loc=0,scale=1.0,size=(dataset_size, d_in))\n",
        "Q,_ = np.linalg.qr(X)\n",
        "X=(dataset_size)**(0.5)*Q\n",
        "#Avec=[(d_in-i)/d_in for i in range(d_in)]\n",
        "#A=np.diag(Avec)\n",
        "A = np.random.normal(loc=0,scale=1.0,size=(d_in, d_in))\n",
        "Y=X@A\n",
        "#Y= np.random.normal(loc=1,scale=0.0,size=(dataset_size, d_out))\n",
        "\n",
        "m = Y.shape[0]\n",
        "\n",
        "\n",
        "### Dataset and loader ###\n",
        "class Modular(torch.utils.data.Dataset):\n",
        "    \n",
        "    # Constructor\n",
        "    def __init__(self, data, labels):\n",
        "        self.x = data\n",
        "        self.y = labels\n",
        "        self.N = self.x.shape[0]\n",
        "        \n",
        "    # Getter\n",
        "    def __getitem__(self, index):    \n",
        "        return self.x[index,:], self.y[index]\n",
        "    \n",
        "    # Get length\n",
        "    def __len__(self):\n",
        "        return self.N\n",
        "        \n",
        "with torch.no_grad():\n",
        "    samples = Modular(X, Y)\n",
        "\n",
        "### Loader ###\n",
        "\n",
        "\n",
        "train_size = int(frac * m)\n",
        "test_size = m - train_size # between 1 and m\n",
        "print(f'total: {m}, test: {test_size}, train: {train_size}')\n",
        "\n",
        "\n",
        "loader_train = DataLoader(samples, batch_size = int(train_size/1), shuffle=False, drop_last=False,\n",
        "                    sampler=sampler.SubsetRandomSampler(range(0, train_size)))\n",
        "\n",
        "#loader_test = DataLoader(samples, batch_size = test_size , shuffle=False, drop_last=False,\n",
        "#                    sampler=sampler.SubsetRandomSampler(range(train_size, m)))\n",
        "\n",
        "for x,y in loader_train:\n",
        "    print(x.shape, y.shape)\n"
      ]
    }
  ],
  "metadata": {
    "accelerator": "GPU",
    "colab": {
      "provenance": []
    },
    "gpuClass": "standard",
    "kernelspec": {
      "display_name": "Python 3.9.12 ('base')",
      "language": "python",
      "name": "python3"
    },
    "language_info": {
      "codemirror_mode": {
        "name": "ipython",
        "version": 3
      },
      "file_extension": ".py",
      "mimetype": "text/x-python",
      "name": "python",
      "nbconvert_exporter": "python",
      "pygments_lexer": "ipython3",
      "version": "3.9.12"
    },
    "vscode": {
      "interpreter": {
        "hash": "2d908ca36c3ca3e037d82c2515bc3e64c43dfe96cf8319577f1f2fc46ad31c16"
      }
    }
  },
  "nbformat": 4,
  "nbformat_minor": 0
}